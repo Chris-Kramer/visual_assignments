{
 "cells": [
  {
   "cell_type": "markdown",
   "metadata": {},
   "source": [
    "## Basic scripting with Python"
   ]
  },
  {
   "cell_type": "markdown",
   "metadata": {},
   "source": [
    "Create or find small dataset of imgs, using an online data source such as Kaggle. At the very least, your dataset should contain no fewer than 10 images."
   ]
  },
  {
   "cell_type": "markdown",
   "metadata": {},
   "source": [
    "Write a Python script which does the following:\n",
    "- For each image, find the width, height, and number of channels\n",
    "- For each image, split image into four equal-sized quadrants (i.e. top-left, top-right, bottom-left, bottom-right)\n",
    "- Save each of the split images in JPG format\n",
    "- Create and save a file containing the filename, width, height for all of the new images.\n"
   ]
  },
  {
   "cell_type": "markdown",
   "metadata": {},
   "source": [
    "__Import libraries__"
   ]
  },
  {
   "cell_type": "code",
   "execution_count": 1,
   "metadata": {},
   "outputs": [],
   "source": [
    "import os\n",
    "import numpy as np \n",
    "import cv2 \n",
    "import csv \n",
    "from pathlib import Path "
   ]
  },
  {
   "cell_type": "code",
   "execution_count": 2,
   "metadata": {},
   "outputs": [],
   "source": [
    "import sys\n",
    "sys.path.append(os.path.join(\"..\"))\n",
    "from utils.imutils import jimshow #Import utility function jimshow"
   ]
  },
  {
   "cell_type": "markdown",
   "metadata": {},
   "source": [
    "__Functions__"
   ]
  },
  {
   "cell_type": "markdown",
   "metadata": {},
   "source": [
    "This function saves images. It takes the destination path for the image, the name (without the destination path) and an image object as parameters. "
   ]
  },
  {
   "cell_type": "code",
   "execution_count": 3,
   "metadata": {},
   "outputs": [],
   "source": [
    "def save_img(img, path, name):\n",
    "    outfile = os.path.join(path, f\"{name}.jpg\")\n",
    "    cv2.imwrite(outfile, img)"
   ]
  },
  {
   "cell_type": "markdown",
   "metadata": {},
   "source": [
    "This function splits an image object into four equally sized squares. It converts doubles and floats to integers, since an image array only takes integers as values. It always returns an array called \"all_imgs\", which contains the splitted images. The index will always show the following slices:\n",
    "- 0: upper left corner\n",
    "- 1: lower left corner\n",
    "- 2: Upper right corner\n",
    "- 3: Lower right corner"
   ]
  },
  {
   "cell_type": "code",
   "execution_count": 4,
   "metadata": {},
   "outputs": [],
   "source": [
    "def split_img(img):\n",
    "    #Find the size of height and widt divided by half\n",
    "    split_x = int(img.shape[1]/2)\n",
    "    split_y = int(img.shape[0]/2) \n",
    "    \n",
    "    #Split img \n",
    "    upper_left_corner = img[0:split_y, 0:split_x]\n",
    "    bottom_left_corner = img[split_y:, 0:split_x]\n",
    "    upper_right_corner = img[0:split_y, split_x:]\n",
    "    bottom_right_corner = img[split_y:, split_x:]\n",
    "    \n",
    "    #Save results in an array\n",
    "    all_imgs = [upper_left_corner, bottom_left_corner, upper_right_corner, bottom_right_corner]\n",
    "    return all_imgs"
   ]
  },
  {
   "cell_type": "markdown",
   "metadata": {},
   "source": [
    "This function adds rows to a csv-file with 5 columns: \"folder, filename, height, widt and channels\". It requires that an open writer object. "
   ]
  },
  {
   "cell_type": "code",
   "execution_count": 5,
   "metadata": {},
   "outputs": [],
   "source": [
    "def add_csv_row (folder, file_name, height, width, channels):\n",
    "    writer.writerow({\"folder\": folder,\n",
    "                     \"filename\": file_name,\n",
    "                     \"height\": height,\n",
    "                     \"width\": width,\n",
    "                     \"channels\": channels})"
   ]
  },
  {
   "cell_type": "markdown",
   "metadata": {},
   "source": [
    "My data contains multiple subfolders with different animals, and subfolders for splitted images.\n",
    "- raw-img\n",
    "    - cane\n",
    "        - splitted_images\n",
    "    - cavallo\n",
    "        - splitted_images\n",
    "    - elefante\n",
    "        - splitted_images\n",
    "    - etc\n",
    "        - etc.\n",
    "\n",
    "I start by creating a new csv-file.\n",
    "I then use a loop to navigate between folders. With a nested loop I then split each image and calculate height, width and channels. \n",
    "\n",
    "With another nested loop I save each splitted image in the subfolder called \"splitted_images\" and add a new row to the csv-file. Since I don't know how to use regexes in python yet, I use indexes (the variable \"img_index\") to name the new images. Moreover I also use indexes \"splitted_img_index\" to determine, if the new file should be called \"left-upper-corner\", \"left-lower-corner\", \"right-upper-corner\" or \"right-lower-corner\"."
   ]
  },
  {
   "cell_type": "markdown",
   "metadata": {},
   "source": [
    "__Loop__"
   ]
  },
  {
   "cell_type": "code",
   "execution_count": 6,
   "metadata": {},
   "outputs": [
    {
     "name": "stdout",
     "output_type": "stream",
     "text": [
      "---------------------------------------------FOLDER ../data/raw-img/cane!-----------------------------------------\n",
      "file ../data/raw-img/cane/OIP-_5yuhCcjtUE3kLT33YEvHQHaJ4.jpeg, Height: 300, Width: 225, Channels: 3\n",
      "file ../data/raw-img/cane/OIP-_3acmW_iSr12XgQTNz0IdQHaFj.jpeg, Height: 225, Width: 300, Channels: 3\n",
      "file ../data/raw-img/cane/OIF-e2bexWrojgtQnAPPcUfOWQ.jpeg, Height: 225, Width: 300, Channels: 3\n",
      "file ../data/raw-img/cane/OIP-_3S-iEDMQnko7ZHgq_FTcwHaEL.jpeg, Height: 169, Width: 300, Channels: 3\n",
      "file ../data/raw-img/cane/OIP-_4M8lLVlk06o0YOtolSlvQHaHL.jpeg, Height: 291, Width: 300, Channels: 3\n",
      "file ../data/raw-img/cane/OIP-_5Em--O1RA44HxiWK_ybawHaF4.jpeg, Height: 238, Width: 300, Channels: 3\n",
      "file ../data/raw-img/cane/OIP-_5GCQGVN9m7ed1UX_dUtTQHaFv.jpeg, Height: 233, Width: 300, Channels: 3\n",
      "file ../data/raw-img/cane/OIP-_2Itmpob3Q0nbJKrHvtnfAHaJ3.jpeg, Height: 300, Width: 226, Channels: 3\n",
      "file ../data/raw-img/cane/OIP-_2iBsOsobKZsP76-9Cd-qAHaEM.jpeg, Height: 170, Width: 300, Channels: 3\n",
      "file ../data/raw-img/cane/OIP-__Yu1XH3iAC10OzGQFpC-AHaE8.jpeg, Height: 200, Width: 300, Channels: 3\n",
      "---------------------------------------------FOLDER ../data/raw-img/scoiatollo!-----------------------------------------\n",
      "file ../data/raw-img/scoiatollo/OIP-_5bWJ7SoPigN4PgV6UozJAHaEo.jpeg, Height: 188, Width: 300, Channels: 3\n",
      "file ../data/raw-img/scoiatollo/OIP-_b7M9TMyyPRiNxAbf_EmkQHaE8.jpeg, Height: 200, Width: 300, Channels: 3\n",
      "file ../data/raw-img/scoiatollo/OIP-_1fZ4ZAaldRi0hgUW7DVuQHaFr.jpeg, Height: 230, Width: 300, Channels: 3\n",
      "file ../data/raw-img/scoiatollo/OIP-_cwStB4RUBpoAm0dmJ0hIAHaFj.jpeg, Height: 225, Width: 300, Channels: 3\n",
      "file ../data/raw-img/scoiatollo/OIP-_7pz-4WgSloa6KRjq6DozAHaFj.jpeg, Height: 225, Width: 300, Channels: 3\n",
      "file ../data/raw-img/scoiatollo/OIP-_dVEHaJdv_2qGvKpQOVEJwHaFj.jpeg, Height: 225, Width: 300, Channels: 3\n",
      "file ../data/raw-img/scoiatollo/OIP-_drWCjlWkUA3_BvlQCemqAHaEo.jpeg, Height: 188, Width: 300, Channels: 3\n",
      "file ../data/raw-img/scoiatollo/OIP-_CfAAHdwS_7kSIEuKo_LhQHaG7.jpeg, Height: 281, Width: 300, Channels: 3\n",
      "file ../data/raw-img/scoiatollo/OIP-_etMNqBBhvthcoMi5V2zCQHaE7.jpeg, Height: 200, Width: 300, Channels: 3\n",
      "file ../data/raw-img/scoiatollo/OIP-_CygoxlOH2ORAFiulW4WpQHaFI.jpeg, Height: 208, Width: 300, Channels: 3\n",
      "---------------------------------------------FOLDER ../data/raw-img/cavallo!-----------------------------------------\n",
      "file ../data/raw-img/cavallo/OIP-_9BjMsv3D2hGKOK4c_cvtgHaE9.jpeg, Height: 201, Width: 300, Channels: 3\n",
      "file ../data/raw-img/cavallo/OIP-_82Gy46U8XAWuoXiyps_iwHaE-.jpeg, Height: 202, Width: 300, Channels: 3\n",
      "file ../data/raw-img/cavallo/OIP-_7Dax4YmCM4SX9_EQn4qLQHaFZ.jpeg, Height: 219, Width: 300, Channels: 3\n",
      "file ../data/raw-img/cavallo/OIP-_4xQfMZofBLJHN-EjvNIbAHaFa.jpeg, Height: 219, Width: 300, Channels: 3\n",
      "file ../data/raw-img/cavallo/OIP-_-5DDAGLz1A9FyrB0FLdgwHaFw.jpeg, Height: 233, Width: 300, Channels: 3\n",
      "file ../data/raw-img/cavallo/OIP-_0PoMJCRn51Al0YR3STdQgHaEK.jpeg, Height: 169, Width: 300, Channels: 3\n",
      "file ../data/raw-img/cavallo/OIP-_4Je19YqBjuLshOruR07AQHaFV.jpeg, Height: 216, Width: 300, Channels: 3\n",
      "file ../data/raw-img/cavallo/OIP-_6poWqxKgI1r0BVX9xCTaQHaEo.jpeg, Height: 188, Width: 300, Channels: 3\n",
      "file ../data/raw-img/cavallo/OIP-_6GxeiPFXPS5O4d8C553cwHaE7.jpeg, Height: 200, Width: 300, Channels: 3\n",
      "file ../data/raw-img/cavallo/OIP-_7-NZ2rwc8GBraL0cYxSoQHaFj.jpeg, Height: 225, Width: 300, Channels: 3\n",
      "---------------------------------------------FOLDER ../data/raw-img/mucca!-----------------------------------------\n",
      "file ../data/raw-img/mucca/OIP-_6CJGv4_77hKyrXuGH4pTAHaE7.jpeg, Height: 200, Width: 300, Channels: 3\n",
      "file ../data/raw-img/mucca/OIP-_4RZtMsk4I0NT7DxZOiWjgHaFj.jpeg, Height: 225, Width: 300, Channels: 3\n",
      "file ../data/raw-img/mucca/OIP-_2UQ4ixe4HMHonmuAP3vFAHaEk.jpeg, Height: 185, Width: 300, Channels: 3\n",
      "file ../data/raw-img/mucca/OIP-_01xh7qI0nvypZLkOxGyIgHaFi.jpeg, Height: 225, Width: 300, Channels: 3\n",
      "file ../data/raw-img/mucca/OIP-_Dx1fsxBCBSXQ_kgAXAxVwHaDP.jpeg, Height: 132, Width: 300, Channels: 3\n",
      "file ../data/raw-img/mucca/OIP-_70RDqJmC7ljmaNGblpF0QHaEx.jpeg, Height: 194, Width: 300, Channels: 3\n",
      "file ../data/raw-img/mucca/OIP-_2Il44HQzZrQQwqKl7oUOwHaFj.jpeg, Height: 225, Width: 300, Channels: 3\n",
      "file ../data/raw-img/mucca/OIP-_1Zlq8IuJjORr6HhIGetCQHaFj.jpeg, Height: 225, Width: 300, Channels: 3\n",
      "file ../data/raw-img/mucca/OIP-__wtYf6sbvlOlMBMHyA3OAAAAA.jpeg, Height: 200, Width: 300, Channels: 3\n",
      "file ../data/raw-img/mucca/OIP-_7azUmSrj5WRPxxt4zgtIgHaFJ.jpeg, Height: 209, Width: 300, Channels: 3\n",
      "---------------------------------------------FOLDER ../data/raw-img/gallina!-----------------------------------------\n",
      "file ../data/raw-img/gallina/10.jpeg, Height: 300, Width: 291, Channels: 3\n",
      "file ../data/raw-img/gallina/14.jpeg, Height: 225, Width: 300, Channels: 3\n",
      "file ../data/raw-img/gallina/4.jpeg, Height: 200, Width: 300, Channels: 3\n",
      "file ../data/raw-img/gallina/6.jpeg, Height: 199, Width: 300, Channels: 3\n",
      "file ../data/raw-img/gallina/9.jpeg, Height: 300, Width: 225, Channels: 3\n",
      "file ../data/raw-img/gallina/17.jpeg, Height: 225, Width: 300, Channels: 3\n",
      "file ../data/raw-img/gallina/19.jpeg, Height: 225, Width: 300, Channels: 3\n",
      "file ../data/raw-img/gallina/16.jpeg, Height: 225, Width: 300, Channels: 3\n",
      "file ../data/raw-img/gallina/5.jpeg, Height: 225, Width: 300, Channels: 3\n",
      "file ../data/raw-img/gallina/2.jpeg, Height: 300, Width: 182, Channels: 3\n",
      "---------------------------------------------FOLDER ../data/raw-img/elefante!-----------------------------------------\n",
      "file ../data/raw-img/elefante/e83cb3082df5043ed1584d05fb1d4e9fe777ead218ac104497f5c978a4efbcb0_640.jpg, Height: 426, Width: 640, Channels: 3\n",
      "file ../data/raw-img/elefante/e83cb10c28f5063ed1584d05fb1d4e9fe777ead218ac104497f5c978a4efbcb0_640.jpg, Height: 379, Width: 640, Channels: 3\n",
      "file ../data/raw-img/elefante/e032b10b2df21c22d2524518b7444f92e37fe5d404b0144390f8c07aa5ecb6_640.jpg, Height: 426, Width: 640, Channels: 3\n",
      "file ../data/raw-img/elefante/e83cb10620f2073ed1584d05fb1d4e9fe777ead218ac104497f5c978a4eebdbd_640.jpg, Height: 360, Width: 640, Channels: 3\n",
      "file ../data/raw-img/elefante/e83cb00a2ef1053ed1584d05fb1d4e9fe777ead218ac104497f5c978a4efbcb0_640.jpg, Height: 426, Width: 640, Channels: 3\n",
      "file ../data/raw-img/elefante/e83cb70929f71c22d2524518b7444f92e37fe5d404b0144390f8c07aa5ecb6_640.jpg, Height: 360, Width: 640, Channels: 3\n",
      "file ../data/raw-img/elefante/e83cb00a2ef1083ed1584d05fb1d4e9fe777ead218ac104497f5c978a4eebdbd_640.jpg, Height: 426, Width: 640, Channels: 3\n",
      "file ../data/raw-img/elefante/e83cb10f2bf7033ed1584d05fb1d4e9fe777ead218ac104497f5c978a4efb4bb_640.jpg, Height: 360, Width: 640, Channels: 3\n",
      "file ../data/raw-img/elefante/e83cb20c2bf6083ed1584d05fb1d4e9fe777ead218ac104497f5c978a4eebdbd_640.jpg, Height: 277, Width: 640, Channels: 3\n",
      "file ../data/raw-img/elefante/e83cb60828f5043ed1584d05fb1d4e9fe777ead218ac104497f5c978a4eebdbd_640.jpg, Height: 426, Width: 640, Channels: 3\n",
      "---------------------------------------------FOLDER ../data/raw-img/pecora!-----------------------------------------\n",
      "file ../data/raw-img/pecora/e13cb60a2bfc1c22d2524518b7444f92e37fe5d404b0144390f8c078a1ebb2_640.jpg, Height: 426, Width: 640, Channels: 3\n",
      "file ../data/raw-img/pecora/e83cb90a28fc093ed1584d05fb1d4e9fe777ead218ac104497f5c978a6e8b0b1_640.jpg, Height: 480, Width: 640, Channels: 3\n",
      "file ../data/raw-img/pecora/e83cb2072af51c22d2524518b7444f92e37fe5d404b0144390f8c078a2e8bc_640.jpg, Height: 480, Width: 640, Channels: 3\n",
      "file ../data/raw-img/pecora/e83cb60c2df1033ed1584d05fb1d4e9fe777ead218ac104497f5c978a6eab2b0_640.jpg, Height: 426, Width: 640, Channels: 3\n",
      "file ../data/raw-img/pecora/e034b80f2ff61c22d2524518b7444f92e37fe5d404b0144390f8c078a0eabd_640.jpg, Height: 425, Width: 640, Channels: 3\n",
      "file ../data/raw-img/pecora/e032b5082ef61c22d2524518b7444f92e37fe5d404b0144390f8c078a0eabd_640.jpg, Height: 480, Width: 640, Channels: 3\n",
      "file ../data/raw-img/pecora/e83db20a2ff1093ed1584d05fb1d4e9fe777ead218ac104497f5c978a6eab2b0_640.jpg, Height: 482, Width: 640, Channels: 3\n",
      "file ../data/raw-img/pecora/e13cb60a2bf31c22d2524518b7444f92e37fe5d404b0144390f8c078a0eabd_640.jpg, Height: 426, Width: 640, Channels: 3\n",
      "file ../data/raw-img/pecora/e83db30d29f7063ed1584d05fb1d4e9fe777ead218ac104497f5c978a6e8b0b1_640.jpg, Height: 424, Width: 640, Channels: 3\n",
      "file ../data/raw-img/pecora/e037b00b2af41c22d2524518b7444f92e37fe5d404b0144390f8c078a0eabd_640.jpg, Height: 480, Width: 640, Channels: 3\n",
      "---------------------------------------------FOLDER ../data/raw-img/ragno!-----------------------------------------\n",
      "file ../data/raw-img/ragno/e83cb4072bf21c22d2524518b7444f92e37fe5d404b0144390f8c47ba7ebb0_640.jpg, Height: 425, Width: 640, Channels: 3\n",
      "file ../data/raw-img/ragno/e83cb3062bf1003ed1584d05fb1d4e9fe777ead218ac104497f5c97ca5edb3bd_640.jpg, Height: 373, Width: 640, Channels: 3\n",
      "file ../data/raw-img/ragno/e03db4072cf01c22d2524518b7444f92e37fe5d404b0144390f8c47ba6edbc_640.jpg, Height: 640, Width: 640, Channels: 3\n",
      "file ../data/raw-img/ragno/e83cb20a28f2023ed1584d05fb1d4e9fe777ead218ac104497f5c97ca5ecb3b9_640.jpg, Height: 417, Width: 640, Channels: 3\n"
     ]
    },
    {
     "name": "stdout",
     "output_type": "stream",
     "text": [
      "file ../data/raw-img/ragno/e034b90b20f11c22d2524518b7444f92e37fe5d404b0144390f8c47ba6ebb4_640.jpg, Height: 401, Width: 640, Channels: 3\n",
      "file ../data/raw-img/ragno/e83cb00a2bf0053ed1584d05fb1d4e9fe777ead218ac104497f5c97ca5ecb3b9_640.jpg, Height: 426, Width: 640, Channels: 3\n",
      "file ../data/raw-img/ragno/e83cb60f2dfd1c22d2524518b7444f92e37fe5d404b0144390f8c47ba7ebb0_640.jpg, Height: 423, Width: 640, Channels: 3\n",
      "file ../data/raw-img/ragno/e83cb30c2bf6043ed1584d05fb1d4e9fe777ead218ac104497f5c97ca5ecb5b1_640.jpg, Height: 426, Width: 640, Channels: 3\n",
      "file ../data/raw-img/ragno/e83cb0062ff5073ed1584d05fb1d4e9fe777ead218ac104497f5c97ca5ecb3b9_640.jpg, Height: 422, Width: 640, Channels: 3\n",
      "file ../data/raw-img/ragno/e83cb2082bfd013ed1584d05fb1d4e9fe777ead218ac104497f5c97ca5ecb5b1_640.jpg, Height: 480, Width: 640, Channels: 3\n",
      "---------------------------------------------FOLDER ../data/raw-img/gatto!-----------------------------------------\n",
      "file ../data/raw-img/gatto/10.jpeg, Height: 188, Width: 300, Channels: 3\n",
      "file ../data/raw-img/gatto/6.jpeg, Height: 200, Width: 300, Channels: 3\n",
      "file ../data/raw-img/gatto/9.jpeg, Height: 280, Width: 300, Channels: 3\n",
      "file ../data/raw-img/gatto/12.jpeg, Height: 200, Width: 300, Channels: 3\n",
      "file ../data/raw-img/gatto/1.jpeg, Height: 210, Width: 300, Channels: 3\n",
      "file ../data/raw-img/gatto/5.jpeg, Height: 300, Width: 260, Channels: 3\n",
      "file ../data/raw-img/gatto/2.jpeg, Height: 169, Width: 300, Channels: 3\n",
      "file ../data/raw-img/gatto/11.jpeg, Height: 300, Width: 300, Channels: 3\n",
      "file ../data/raw-img/gatto/3.jpeg, Height: 200, Width: 300, Channels: 3\n",
      "file ../data/raw-img/gatto/7.jpeg, Height: 171, Width: 300, Channels: 3\n",
      "---------------------------------------------FOLDER ../data/raw-img/farfalla!-----------------------------------------\n",
      "file ../data/raw-img/farfalla/e030b2092de90021d85a5854ee454296eb70e3c818b413449df6c87ca3ed_640.jpg, Height: 640, Width: 426, Channels: 3\n",
      "file ../data/raw-img/farfalla/e030b2092be90021d85a5854ee454296eb70e3c818b413449df6c87ca3ed_640.jpg, Height: 640, Width: 426, Channels: 3\n",
      "file ../data/raw-img/farfalla/e030b2092ce90021d85a5854ee454296eb70e3c818b413449df6c87ca3ed_640.jpg, Height: 640, Width: 425, Channels: 3\n",
      "file ../data/raw-img/farfalla/e83cb7082cf11c22d2524518b7444f92e37fe5d404b0144390f8c770a2e9b5_640.jpg, Height: 447, Width: 640, Channels: 3\n",
      "file ../data/raw-img/farfalla/e83cb80e29f11c22d2524518b7444f92e37fe5d404b0144390f8c770a3e5b7_640.jpg, Height: 480, Width: 640, Channels: 3\n",
      "file ../data/raw-img/farfalla/e030b20929e90021d85a5854ee454296eb70e3c818b413449df6c87ca3ed_640.jpg, Height: 457, Width: 640, Channels: 3\n",
      "file ../data/raw-img/farfalla/e030b20a20e90021d85a5854ee454296eb70e3c818b413449df6c87ca3ed_640.jpg, Height: 454, Width: 640, Channels: 3\n",
      "file ../data/raw-img/farfalla/e030b20928e90021d85a5854ee454296eb70e3c818b413449df6c87ca3ed_640.jpg, Height: 640, Width: 426, Channels: 3\n",
      "file ../data/raw-img/farfalla/e83cb90c28e90021d85a5854ee454296eb70e3c818b413449df6c87dafef_640.jpg, Height: 425, Width: 640, Channels: 3\n",
      "file ../data/raw-img/farfalla/e83cb20721f3093ed1584d05fb1d4e9fe777ead218ac104497f5c97faeebb5bb_640.jpg, Height: 424, Width: 640, Channels: 3\n"
     ]
    }
   ],
   "source": [
    "main_folder = os.path.join(\"..\", \"data\", \"raw-img\") #Path to folders with images\n",
    "csv_path = os.path.join(\"..\", \"data\", \"new_imgs.csv\") #Path to the new csv-file\n",
    "\n",
    "with open(csv_path, mode = \"w\") as csv_file:#create and open new csv-file\n",
    "    writer = csv.DictWriter(csv_file, fieldnames=[\"folder\", \"filename\", \"height\", \"width\", \"channels\"]) #create writer object\n",
    "    writer.writeheader() #add headers\n",
    "    \n",
    "    #for each subfolder in raw-img\n",
    "    for folder_path in Path(main_folder).glob(\"*\"):\n",
    "        print(f\"---------------------------------------------FOLDER {str(folder_path)}!-----------------------------------------\")\n",
    "        img_index = 0 #image index in the folder. Used for naming new files\n",
    "        img_destination = os.path.join(folder_path, \"splitted_images\") #Destination for splitted images. Used for saving images\n",
    "    \n",
    "        #For each file in the subfolder. \n",
    "        for file in Path(folder_path).glob(\"*.*\"):\n",
    "            file = str(file) #Convert filepath to a string.\n",
    "            original_img = cv2.imread(file) #Read the image\n",
    "            height = original_img.shape[0] #Calculate height\n",
    "            width = original_img.shape[1] #Calculate width\n",
    "            channels = original_img.shape[2] #Calculate number of channels\n",
    "            \n",
    "            print(f\"file {file}, Height: {height}, Width: {width}, Channels: {channels}\") #print tihs\n",
    "            \n",
    "            splitted_img_index = 0 #Set index for splitted images to 0\n",
    "            for splitted_img in split_img(original_img): #For each splitted image in the returned array from split_img\n",
    "                height_splitted = splitted_img.shape[0] #calculate height\n",
    "                width_splitted = splitted_img.shape[1] #calculate width\n",
    "                channels_splitted = splitted_img.shape[2] #Calculate channels\n",
    "                \n",
    "                if splitted_img_index == 0: #If index for splitted image is 0\n",
    "                    img_name =  f\"file-{str(img_index)}-left-upper-corner\" #Use this name\n",
    "                    save_img(splitted_img, img_destination, img_name) #Save image\n",
    "                    add_csv_row(img_destination, img_name, height_splitted, width_splitted, channels_splitted) #Add row to csv\n",
    "                    \n",
    "                    splitted_img_index = splitted_img_index + 1 #Add 1 to index for splitted images\n",
    "                \n",
    "                elif splitted_img_index == 1: #Else If index for splitted image is 1\n",
    "                    img_name =  f\"file-{str(img_index)}-left-lower-corner\" #Use this name\n",
    "                    save_img(splitted_img, img_destination, img_name) #Save image\n",
    "                    add_csv_row(img_destination, img_name, height_splitted, width_splitted, channels_splitted) #Add row to csv\n",
    "                    \n",
    "                    splitted_img_index = splitted_img_index + 1 #Add 1 to index for splitted images\n",
    "                            \n",
    "                elif splitted_img_index == 2: #Else If index for splitted image is 2\n",
    "                    img_name =  f\"file-{str(img_index)}-right-upper-corner\"  #Use this name\n",
    "                    save_img(splitted_img, img_destination, img_name) #Save image\n",
    "                    add_csv_row(img_destination, img_name, height_splitted, width_splitted, channels_splitted) #Add row to csv\n",
    "                    \n",
    "                    splitted_img_index = splitted_img_index + 1 #Add 1 to index for splitted images\n",
    "                    \n",
    "                else: #The last index will always be 3, so no condition is required\n",
    "                    img_name =  f\"file-{str(img_index)}-right-lower-corner\" #Use this name\n",
    "                    save_img(splitted_img, img_destination, img_name) #Save image\n",
    "                    add_csv_row(img_destination, img_name, height_splitted, width_splitted, channels_splitted) #Add row to csv\n",
    "                    #No need to add 1 to the splitted images index, since the loop will end.\n",
    "                    \n",
    "            img_index = img_index + 1 #Add one to image index "
   ]
  },
  {
   "cell_type": "code",
   "execution_count": null,
   "metadata": {},
   "outputs": [],
   "source": []
  }
 ],
 "metadata": {
  "kernelspec": {
   "display_name": "cv101",
   "language": "python",
   "name": "cv101"
  },
  "language_info": {
   "codemirror_mode": {
    "name": "ipython",
    "version": 3
   },
   "file_extension": ".py",
   "mimetype": "text/x-python",
   "name": "python",
   "nbconvert_exporter": "python",
   "pygments_lexer": "ipython3",
   "version": "3.6.9"
  }
 },
 "nbformat": 4,
 "nbformat_minor": 4
}
