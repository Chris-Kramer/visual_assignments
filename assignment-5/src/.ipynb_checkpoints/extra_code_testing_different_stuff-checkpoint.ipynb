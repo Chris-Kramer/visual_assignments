{
 "cells": [
  {
   "cell_type": "markdown",
   "metadata": {},
   "source": [
    "# Change size of data directory"
   ]
  },
  {
   "cell_type": "markdown",
   "metadata": {},
   "source": [
    "## First trial (DIDN'T WORK!)"
   ]
  },
  {
   "cell_type": "code",
   "execution_count": null,
   "metadata": {},
   "outputs": [],
   "source": [
    "import os\n",
    "import sys\n",
    "import cv2\n",
    "from pathlib import Path\n",
    "import re\n",
    "import shutil\n",
    "import random\n",
    "from shutil import copyfile\n",
    "import numpy as np"
   ]
  },
  {
   "cell_type": "code",
   "execution_count": null,
   "metadata": {},
   "outputs": [],
   "source": [
    "folder_path = os.path.join(\"..\", \"data\", \"training\")\n",
    "\n",
    "for folder in Path(folder_path).glob(\"*\"):\n",
    "    i = 0\n",
    "    painter = re.findall(r\"(?!.*/).+\", str(folder))\n",
    "    print(painter)\n",
    "    for img in Path(folder).glob(\"*\"):\n",
    "        if i > 40:\n",
    "            break\n",
    "        else:\n",
    "            i +=1\n",
    "            image = cv2.imread(str(img))\n",
    "            #print(image)\n",
    "            img_name = re.findall(r\"(?!.*/).+.jpg\", str(img))\n",
    "            print(img)\n",
    "            #cv2.imwrite(os.path.join(\"src\", \"\"), image)\n",
    "            #cv2.imwrite(f\"../data/small_training/{painter[0]}/{img_name[0]}\", image)\n",
    "            print(f\"../data/small_training/{painter[0]}/{img_name[0]}\")\n",
    "\n"
   ]
  },
  {
   "cell_type": "markdown",
   "metadata": {},
   "source": [
    "## Second solution (Works)"
   ]
  },
  {
   "cell_type": "markdown",
   "metadata": {},
   "source": [
    "### Small training size"
   ]
  },
  {
   "cell_type": "code",
   "execution_count": null,
   "metadata": {},
   "outputs": [],
   "source": [
    "#folder which contains the sub directories\n",
    "source_dir = '../data/training/'\n",
    "#list sub directories \n",
    "for root, dirs, files in os.walk(source_dir):\n",
    "\n",
    "#iterate through them\n",
    "    for i in dirs: \n",
    "\n",
    "        #create a new folder with the name of the iterated sub dir\n",
    "        path = '../data/small_training/' + \"%s/\" % i\n",
    "        os.makedirs(path)\n",
    "\n",
    "        #take random sample, here 3 files per sub dir\n",
    "        filenames = random.sample(os.listdir('../data/training/' + \"%s/\" % i ), 40)\n",
    "\n",
    "        #copy the files to the new destination\n",
    "        for j in filenames:\n",
    "            shutil.copy2('../data/training/' + \"%s/\" % i  + j, path)"
   ]
  },
  {
   "cell_type": "markdown",
   "metadata": {},
   "source": [
    "### Small validation size"
   ]
  },
  {
   "cell_type": "code",
   "execution_count": 1,
   "metadata": {},
   "outputs": [
    {
     "ename": "NameError",
     "evalue": "name 'os' is not defined",
     "output_type": "error",
     "traceback": [
      "\u001b[0;31m---------------------------------------------------------------------------\u001b[0m",
      "\u001b[0;31mNameError\u001b[0m                                 Traceback (most recent call last)",
      "\u001b[0;32m<ipython-input-1-0394ebfc55f7>\u001b[0m in \u001b[0;36m<module>\u001b[0;34m\u001b[0m\n\u001b[1;32m      1\u001b[0m \u001b[0msource_dir\u001b[0m \u001b[0;34m=\u001b[0m \u001b[0;34m'../data/validation/'\u001b[0m\u001b[0;34m\u001b[0m\u001b[0;34m\u001b[0m\u001b[0m\n\u001b[1;32m      2\u001b[0m \u001b[0;31m#list sub directories\u001b[0m\u001b[0;34m\u001b[0m\u001b[0;34m\u001b[0m\u001b[0;34m\u001b[0m\u001b[0m\n\u001b[0;32m----> 3\u001b[0;31m \u001b[0;32mfor\u001b[0m \u001b[0mroot\u001b[0m\u001b[0;34m,\u001b[0m \u001b[0mdirs\u001b[0m\u001b[0;34m,\u001b[0m \u001b[0mfiles\u001b[0m \u001b[0;32min\u001b[0m \u001b[0mos\u001b[0m\u001b[0;34m.\u001b[0m\u001b[0mwalk\u001b[0m\u001b[0;34m(\u001b[0m\u001b[0msource_dir\u001b[0m\u001b[0;34m)\u001b[0m\u001b[0;34m:\u001b[0m\u001b[0;34m\u001b[0m\u001b[0;34m\u001b[0m\u001b[0m\n\u001b[0m\u001b[1;32m      4\u001b[0m \u001b[0;34m\u001b[0m\u001b[0m\n\u001b[1;32m      5\u001b[0m \u001b[0;31m#iterate through them\u001b[0m\u001b[0;34m\u001b[0m\u001b[0;34m\u001b[0m\u001b[0;34m\u001b[0m\u001b[0m\n",
      "\u001b[0;31mNameError\u001b[0m: name 'os' is not defined"
     ]
    }
   ],
   "source": [
    "source_dir = '../data/validation/'\n",
    "#list sub directories \n",
    "for root, dirs, files in os.walk(source_dir):\n",
    "\n",
    "#iterate through them\n",
    "    for i in dirs: \n",
    "\n",
    "        #create a new folder with the name of the iterated sub dir\n",
    "        path = '../data/small_validation/' + \"%s/\" % i\n",
    "        os.makedirs(path)\n",
    "\n",
    "        #take random sample, here 3 files per sub dir\n",
    "        filenames = random.sample(os.listdir('../data/validation/' + \"%s/\" % i ), 10)\n",
    "\n",
    "        #copy the files to the new destination\n",
    "        for j in filenames:\n",
    "            shutil.copy2('../data/validation/' + \"%s/\" % i  + j, path)"
   ]
  },
  {
   "cell_type": "code",
   "execution_count": null,
   "metadata": {},
   "outputs": [],
   "source": []
  }
 ],
 "metadata": {
  "kernelspec": {
   "display_name": "cv101",
   "language": "python",
   "name": "cv101"
  },
  "language_info": {
   "codemirror_mode": {
    "name": "ipython",
    "version": 3
   },
   "file_extension": ".py",
   "mimetype": "text/x-python",
   "name": "python",
   "nbconvert_exporter": "python",
   "pygments_lexer": "ipython3",
   "version": "3.6.9"
  }
 },
 "nbformat": 4,
 "nbformat_minor": 4
}
